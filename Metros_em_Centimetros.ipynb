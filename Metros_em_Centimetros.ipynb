{
  "nbformat": 4,
  "nbformat_minor": 0,
  "metadata": {
    "colab": {
      "name": "Metros em Centimetros.ipynb",
      "provenance": [],
      "collapsed_sections": [],
      "authorship_tag": "ABX9TyP9uJyqrxTQdrW59oUN5usi",
      "include_colab_link": true
    },
    "kernelspec": {
      "name": "python3",
      "display_name": "Python 3"
    },
    "language_info": {
      "name": "python"
    }
  },
  "cells": [
    {
      "cell_type": "markdown",
      "metadata": {
        "id": "view-in-github",
        "colab_type": "text"
      },
      "source": [
        "<a href=\"https://colab.research.google.com/github/LeonardoCherubino/metrosemcentimetros/blob/main/Metros_em_Centimetros.ipynb\" target=\"_parent\"><img src=\"https://colab.research.google.com/assets/colab-badge.svg\" alt=\"Open In Colab\"/></a>"
      ]
    },
    {
      "cell_type": "code",
      "execution_count": null,
      "metadata": {
        "id": "jQR4FedcOyY9"
      },
      "outputs": [],
      "source": [
        ""
      ]
    },
    {
      "cell_type": "markdown",
      "source": [
        "Converta metros em centimetros."
      ],
      "metadata": {
        "id": "Xfr1SXVmO0kn"
      }
    },
    {
      "cell_type": "code",
      "source": [
        "metros = float(input('Entre com o valor em metros. '))\n",
        "centimetros = metros * 100\n",
        "print('O valor de {} metros equivalem a {} centimetros'.format(metros, centimetros))"
      ],
      "metadata": {
        "colab": {
          "base_uri": "https://localhost:8080/"
        },
        "id": "wO7xF-JrO6FC",
        "outputId": "1eeb694e-fccc-426b-adb5-8bdf46e3d725"
      },
      "execution_count": 4,
      "outputs": [
        {
          "output_type": "stream",
          "name": "stdout",
          "text": [
            "Entre com o valor em metros. 1\n",
            "O valor de 1.0 metros equivalem a 100.0 centimetros\n"
          ]
        }
      ]
    },
    {
      "cell_type": "markdown",
      "source": [
        ""
      ],
      "metadata": {
        "id": "fBUcm9y6Ozc4"
      }
    }
  ]
}